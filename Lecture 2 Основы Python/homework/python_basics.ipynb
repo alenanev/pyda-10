{
 "cells": [
  {
   "cell_type": "markdown",
   "metadata": {},
   "source": [
    "**Задание 1**. Даны 2 строки: *long_phrase* и *short_phrase*. \n",
    "Напишите код, который проверяет действительно ли длинная фраза *long_phrase* длиннее короткой *short_phrase*. И выводит *True* или *False* в зависимости от результата сравнения.\n"
   ]
  },
  {
   "cell_type": "code",
   "execution_count": 3,
   "metadata": {},
   "outputs": [
    {
     "name": "stdout",
     "output_type": "stream",
     "text": [
      "True\n"
     ]
    }
   ],
   "source": [
    "long_phrase = 'Насколько проще было бы писать программы, если бы не заказчики'\n",
    "short_phrase = '640Кб должно хватить для любых задач. Билл Гейтс (по легенде)'\n",
    "print (long_phrase > short_phrase)"
   ]
  },
  {
   "cell_type": "code",
   "execution_count": 1,
   "metadata": {},
   "outputs": [
    {
     "name": "stdout",
     "output_type": "stream",
     "text": [
      "True\n"
     ]
    }
   ],
   "source": [
    "long_phrase = 'Насколько проще было бы писать программы, если бы не заказчики'\n",
    "short_phrase = '640Кб должно хватить для любых задач. Билл Гейтс (по легенде)'\n",
    "print (len(long_phrase) > len (short_phrase))"
   ]
  },
  {
   "cell_type": "markdown",
   "metadata": {},
   "source": [
    "**Задание 2**. Дано значение объема файла в байтах (*в мегабайте 2^20 байт*). Напишите перевод этого значения в мегабайты в формате: \"*Объем файла равен 213.68Mb*\"."
   ]
  },
  {
   "cell_type": "code",
   "execution_count": 12,
   "metadata": {},
   "outputs": [
    {
     "name": "stdout",
     "output_type": "stream",
     "text": [
      "Введите объем файла в байтах200000000000\n",
      "Объем файла равен 190734.86Mb\n"
     ]
    }
   ],
   "source": [
    "number = int(input('Введите объем файла в байтах'))\n",
    "#megabyte = number/ (2^20)\n",
    "print ('Объем файла равен {:.2f}Mb'.format (number/(2**20)))"
   ]
  },
  {
   "cell_type": "markdown",
   "metadata": {},
   "source": [
    "**Задание 3**. Разработать приложение для определения знака зодиака по дате рождения. Пример:\n",
    "\n",
    "Введите месяц: март\n",
    "\n",
    "Введите число: 6\n",
    "\n",
    "Вывод:\n",
    "Рыбы"
   ]
  },
  {
   "cell_type": "code",
   "execution_count": 9,
   "metadata": {
    "scrolled": true
   },
   "outputs": [
    {
     "name": "stdout",
     "output_type": "stream",
     "text": [
      "Введите месяц рождения ДЕКАБРЬ\n",
      "Введите день месяца рождения 14\n",
      "Стрелец\n"
     ]
    }
   ],
   "source": [
    "month = input('Введите месяц рождения ').lower()\n",
    "date = int(input('Введите день месяца рождения '))\n",
    "if month == 'март':\n",
    "    if date <= 20:\n",
    "        print('Рыбы')\n",
    "    else:\n",
    "        print('Овен')\n",
    "elif month == 'апрель':\n",
    "    if date <= 19:\n",
    "        print('Овен')\n",
    "    else:\n",
    "        print('Телец')\n",
    "elif month == 'май':\n",
    "    if date <= 20:\n",
    "        print('Телец')\n",
    "    else:\n",
    "        print('Близнецы')\n",
    "elif month == 'июнь':\n",
    "    if date <= 20:\n",
    "        print('Близнецы')\n",
    "    else:\n",
    "        print('Рак')\n",
    "elif month == 'июль':\n",
    "    if date <= 22:\n",
    "        print('Рак')\n",
    "    else:\n",
    "        print('Лев')\n",
    "elif month == 'август':\n",
    "    if date <= 22:\n",
    "        print('Лев')\n",
    "    else:\n",
    "        print('Дева')\n",
    "elif month == 'сентябрь':\n",
    "    if date <= 22:\n",
    "        print('Дева')\n",
    "    else:\n",
    "        print('Весы')\n",
    "elif month == 'октябрь':\n",
    "    if date <= 22:\n",
    "        print('Весы')\n",
    "    else:\n",
    "        print('Скорпион')\n",
    "elif month == 'ноябрь':\n",
    "    if date <= 21:\n",
    "        print('Скорпион')\n",
    "    else:\n",
    "        print('Стрелец')\n",
    "elif month == 'декабрь':\n",
    "    if date <= 21:\n",
    "        print('Стрелец')\n",
    "    else:\n",
    "        print('Козерог')\n",
    "elif month == 'январь':\n",
    "    if date <= 21:\n",
    "        print('Козерог')\n",
    "    else:\n",
    "        print('Водолей')\n",
    "elif month == 'февраль':\n",
    "    if date <= 18:\n",
    "        print('Водолей')\n",
    "    else:\n",
    "        print('Рыбы')\n",
    "\n",
    "else :\n",
    "    print ('Неправильный формат введенных данных')        "
   ]
  },
  {
   "cell_type": "markdown",
   "metadata": {},
   "source": [
    "**Задание 4**. Нужно разработать приложение для финансового планирования.\n",
    "Приложение учитывает сколько уходит на ипотеку, \"на жизнь\" и сколько нужно отложить на пенсию.\n",
    "Пользователь вводит:\n",
    "- заработанную плату в месяц.\n",
    "- сколько процентов от ЗП уходит на ипотеку.\n",
    "- сколько процентов от ЗП уходит \"на жизнь\".\n",
    "- сколько раз приходит премия в год.\n",
    "\n",
    "Остальная часть заработанной платы откладывается на пенсию.\n",
    "\n",
    "Также пользователю приходит премия в размере зарплаты, от которой половина уходит на отпуск, а вторая половина откладывается.\n",
    "\n",
    "Программа должна учитывать сколько премий было в год.\n",
    "\n",
    "Нужно вывести сколько денег тратит пользователь на ипотеку и сколько он накопит за год.\n",
    "\n",
    "Пример:\n",
    "\n",
    "Введите заработанную плату в месяц: 100000\n",
    "\n",
    "Введите сколько процентов уходит на ипотеку: 30\n",
    "\n",
    "Введите сколько процентов уходит на жизнь: 50\n",
    "\n",
    "Введите количество премий за год: 2\n",
    "\n",
    "Вывод:\n",
    "На ипотеку было потрачено: 360000 рублей\n",
    "Было накоплено: 340000 рублей\n"
   ]
  },
  {
   "cell_type": "code",
   "execution_count": 4,
   "metadata": {},
   "outputs": [
    {
     "name": "stdout",
     "output_type": "stream",
     "text": [
      "Введите заработанную плату в месяц: 5000000\n",
      "Введите сколько процентов уходит на ипотеку: 60\n",
      "Введите сколько процентов уходит на жизнь: 10\n",
      "Введите количество премий за год: 800000\n",
      "На ипотеку было потрачено: 36000000 рублей  Было накоплено: 2000018000000 рублей\n"
     ]
    }
   ],
   "source": [
    "salary = int(input('Введите заработанную плату в месяц: '))\n",
    "mortgage_ratio = int(input('Введите сколько процентов уходит на ипотеку: '))\n",
    "life_ratio = int(input('Введите сколько процентов уходит на жизнь: '))\n",
    "bonus_count = int(input('Введите количество премий за год: '))\n",
    "\n",
    "mortgage = round (salary * 12 * (mortgage_ratio / 100))\n",
    "savings = round  (salary * 12 * (1-mortgage_ratio / 100 - life_ratio / 100 ) + bonus_count * salary * 0.5)\n",
    "\n",
    "print (f'На ипотеку было потрачено: {mortgage} рублей  Было накоплено: {savings} рублей')\n",
    "\n",
    "\n"
   ]
  },
  {
   "cell_type": "code",
   "execution_count": null,
   "metadata": {},
   "outputs": [],
   "source": []
  },
  {
   "cell_type": "code",
   "execution_count": null,
   "metadata": {},
   "outputs": [],
   "source": [
    "\n"
   ]
  },
  {
   "cell_type": "code",
   "execution_count": null,
   "metadata": {},
   "outputs": [],
   "source": []
  },
  {
   "cell_type": "code",
   "execution_count": null,
   "metadata": {},
   "outputs": [],
   "source": []
  },
  {
   "cell_type": "code",
   "execution_count": null,
   "metadata": {},
   "outputs": [],
   "source": []
  }
 ],
 "metadata": {
  "kernelspec": {
   "display_name": "Python 3",
   "language": "python",
   "name": "python3"
  },
  "language_info": {
   "codemirror_mode": {
    "name": "ipython",
    "version": 3
   },
   "file_extension": ".py",
   "mimetype": "text/x-python",
   "name": "python",
   "nbconvert_exporter": "python",
   "pygments_lexer": "ipython3",
   "version": "3.7.6"
  }
 },
 "nbformat": 4,
 "nbformat_minor": 2
}
